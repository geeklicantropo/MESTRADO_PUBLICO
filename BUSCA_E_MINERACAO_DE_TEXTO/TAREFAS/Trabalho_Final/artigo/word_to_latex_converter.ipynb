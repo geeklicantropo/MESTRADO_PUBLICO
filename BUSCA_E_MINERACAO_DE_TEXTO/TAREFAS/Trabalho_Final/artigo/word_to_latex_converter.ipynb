{
 "cells": [
  {
   "cell_type": "code",
   "execution_count": null,
   "metadata": {},
   "outputs": [],
   "source": [
    "!pip install python-docx pylatex\n"
   ]
  },
  {
   "cell_type": "code",
   "execution_count": 9,
   "metadata": {},
   "outputs": [
    {
     "ename": "CompilerError",
     "evalue": "No LaTex compiler was found\nEither specify a LaTex compiler or make sure you have latexmk or pdfLaTex installed.",
     "output_type": "error",
     "traceback": [
      "\u001b[1;31m---------------------------------------------------------------------------\u001b[0m",
      "\u001b[1;31mCompilerError\u001b[0m                             Traceback (most recent call last)",
      "Cell \u001b[1;32mIn[9], line 55\u001b[0m\n\u001b[0;32m     52\u001b[0m     latex_doc\u001b[38;5;241m.\u001b[39mgenerate_pdf(\u001b[38;5;124m'\u001b[39m\u001b[38;5;124moutput\u001b[39m\u001b[38;5;124m'\u001b[39m, clean_tex\u001b[38;5;241m=\u001b[39m\u001b[38;5;28;01mFalse\u001b[39;00m)\n\u001b[0;32m     54\u001b[0m \u001b[38;5;28;01mif\u001b[39;00m \u001b[38;5;18m__name__\u001b[39m \u001b[38;5;241m==\u001b[39m \u001b[38;5;124m\"\u001b[39m\u001b[38;5;124m__main__\u001b[39m\u001b[38;5;124m\"\u001b[39m:\n\u001b[1;32m---> 55\u001b[0m     \u001b[43mmain\u001b[49m\u001b[43m(\u001b[49m\u001b[43m)\u001b[49m\n",
      "Cell \u001b[1;32mIn[9], line 52\u001b[0m, in \u001b[0;36mmain\u001b[1;34m()\u001b[0m\n\u001b[0;32m     50\u001b[0m doc \u001b[38;5;241m=\u001b[39m read_word_file(file_path)\n\u001b[0;32m     51\u001b[0m latex_doc \u001b[38;5;241m=\u001b[39m create_latex_document(doc)\n\u001b[1;32m---> 52\u001b[0m \u001b[43mlatex_doc\u001b[49m\u001b[38;5;241;43m.\u001b[39;49m\u001b[43mgenerate_pdf\u001b[49m\u001b[43m(\u001b[49m\u001b[38;5;124;43m'\u001b[39;49m\u001b[38;5;124;43moutput\u001b[39;49m\u001b[38;5;124;43m'\u001b[39;49m\u001b[43m,\u001b[49m\u001b[43m \u001b[49m\u001b[43mclean_tex\u001b[49m\u001b[38;5;241;43m=\u001b[39;49m\u001b[38;5;28;43;01mFalse\u001b[39;49;00m\u001b[43m)\u001b[49m\n",
      "File \u001b[1;32m~\\AppData\\Roaming\\Python\\Python312\\site-packages\\pylatex\\document.py:325\u001b[0m, in \u001b[0;36mDocument.generate_pdf\u001b[1;34m(self, filepath, clean, clean_tex, compiler, compiler_args, silent)\u001b[0m\n\u001b[0;32m    321\u001b[0m     \u001b[38;5;28;01mbreak\u001b[39;00m\n\u001b[0;32m    323\u001b[0m \u001b[38;5;28;01melse\u001b[39;00m:\n\u001b[0;32m    324\u001b[0m     \u001b[38;5;66;03m# Notify user that none of the compilers worked.\u001b[39;00m\n\u001b[1;32m--> 325\u001b[0m     \u001b[38;5;28;01mraise\u001b[39;00m (\n\u001b[0;32m    326\u001b[0m         CompilerError(\n\u001b[0;32m    327\u001b[0m             \u001b[38;5;124m\"\u001b[39m\u001b[38;5;124mNo LaTex compiler was found\u001b[39m\u001b[38;5;130;01m\\n\u001b[39;00m\u001b[38;5;124m\"\u001b[39m\n\u001b[0;32m    328\u001b[0m             \u001b[38;5;124m\"\u001b[39m\u001b[38;5;124mEither specify a LaTex compiler \u001b[39m\u001b[38;5;124m\"\u001b[39m\n\u001b[0;32m    329\u001b[0m             \u001b[38;5;124m\"\u001b[39m\u001b[38;5;124mor make sure you have latexmk or pdfLaTex installed.\u001b[39m\u001b[38;5;124m\"\u001b[39m\n\u001b[0;32m    330\u001b[0m         )\n\u001b[0;32m    331\u001b[0m     )\n\u001b[0;32m    333\u001b[0m \u001b[38;5;28;01mif\u001b[39;00m \u001b[38;5;129;01mnot\u001b[39;00m python_cwd_available:\n\u001b[0;32m    334\u001b[0m     os\u001b[38;5;241m.\u001b[39mchdir(cur_dir)\n",
      "\u001b[1;31mCompilerError\u001b[0m: No LaTex compiler was found\nEither specify a LaTex compiler or make sure you have latexmk or pdfLaTex installed."
     ]
    }
   ],
   "source": [
    "from docx import Document\n",
    "from pylatex import Document as LatexDocument, Section, Subsection, Command, Figure, Table, Tabular, NoEscape\n",
    "import os\n",
    "\n",
    "def read_word_file(file_path):\n",
    "    doc = Document(file_path)\n",
    "    return doc\n",
    "\n",
    "def convert_paragraphs(doc, latex_doc):\n",
    "    for para in doc.paragraphs:\n",
    "        if para.text:\n",
    "            latex_doc.append(para.text)\n",
    "            latex_doc.append(\"\\n\")\n",
    "\n",
    "def convert_figures(doc, latex_doc):\n",
    "    for rel in doc.inline_shapes:\n",
    "        if rel.type == 3:  # This means it's an image\n",
    "            image_path = rel._inline.graphic.graphicData.pic.blipFill.blip.embed\n",
    "            image = doc.part.related_parts[image_path]\n",
    "            image_filename = os.path.join('images', image.filename)\n",
    "            with open(image_filename, 'wb') as img_file:\n",
    "                img_file.write(image.blob)\n",
    "            with latex_doc.create(Figure(position='h!')) as pic:\n",
    "                pic.add_image(image_filename, width=NoEscape(r'0.8\\textwidth'))\n",
    "                pic.add_caption(\"Caption for image\")\n",
    "\n",
    "def convert_tables(doc, latex_doc):\n",
    "    for table in doc.tables:\n",
    "        max_cols = max(len(row.cells) for row in table.rows)\n",
    "        column_format = \"|\".join([\"c\"] * max_cols)  # Adjust column format based on max_cols\n",
    "        with latex_doc.create(Table(position='h!')) as tab:\n",
    "            with tab.create(Tabular(f'|{column_format}|')) as data_table:\n",
    "                for row in table.rows:\n",
    "                    data_table.add_hline()\n",
    "                    row_data = [cell.text for cell in row.cells]\n",
    "                    row_data.extend([\"\"] * (max_cols - len(row_data)))  # Pad with empty strings if row_data is short\n",
    "                    data_table.add_row(row_data)\n",
    "                data_table.add_hline()\n",
    "\n",
    "def create_latex_document(doc):\n",
    "    latex_doc = LatexDocument()\n",
    "    with latex_doc.create(Section('Document Content')):\n",
    "        convert_paragraphs(doc, latex_doc)\n",
    "        convert_figures(doc, latex_doc)\n",
    "        convert_tables(doc, latex_doc)\n",
    "    return latex_doc\n",
    "\n",
    "def main():\n",
    "    file_path = 'Busca de Arquivos Interessantes.docx'\n",
    "    doc = read_word_file(file_path)\n",
    "    latex_doc = create_latex_document(doc)\n",
    "    latex_doc.generate_pdf('output', clean_tex=False)\n",
    "\n",
    "if __name__ == \"__main__\":\n",
    "    main()\n"
   ]
  },
  {
   "cell_type": "code",
   "execution_count": null,
   "metadata": {},
   "outputs": [],
   "source": []
  },
  {
   "cell_type": "code",
   "execution_count": null,
   "metadata": {},
   "outputs": [],
   "source": []
  }
 ],
 "metadata": {
  "kernelspec": {
   "display_name": "Python 3",
   "language": "python",
   "name": "python3"
  },
  "language_info": {
   "codemirror_mode": {
    "name": "ipython",
    "version": 3
   },
   "file_extension": ".py",
   "mimetype": "text/x-python",
   "name": "python",
   "nbconvert_exporter": "python",
   "pygments_lexer": "ipython3",
   "version": "3.12.3"
  }
 },
 "nbformat": 4,
 "nbformat_minor": 2
}
