{
 "cells": [
  {
   "cell_type": "markdown",
   "metadata": {},
   "source": [
    "<h1>Data Dictionary</h1>\n",
    "\n",
    "- <b>Gender</b> : Sex of individual\n",
    "- <b>Age</b> : How old is the individual\n",
    "- <b>Height</b> : How tall is the individual\n",
    "- <b>Weight</b> : How heavy is the individual\n",
    "- <b>family_history_with_overweight</b> :Family history of obesity\n",
    "- <b>FAVC</b> : Frequency of consumption of high-calorie foods\n",
    "- <b>FCVC</b> : Frequency of vegetable consumption\n",
    "- <b>NCP</b> : Number of main meals\n",
    "- <b>CAEC</b> : Food consumption between meals\n",
    "- <b>SMOKE</b> : Tobacco use\n",
    "- <b>CH20</b> : Daily water consumption\n",
    "- <b>SCC</b> : Monitoring calorie consumption13.\n",
    "- <b>FAF</b> : Frequency of physical activity\n",
    "- <b>TUE</b> : Time for using technological devices\n",
    "- <b>CALC</b> : Alcohol consumption\n",
    "- <b>MTanANS</b> : Mode of transport used\n",
    "- <b>NObeyesdad</b> : Gives us the obesity status of the person"
   ]
  },
  {
   "cell_type": "code",
   "execution_count": null,
   "metadata": {},
   "outputs": [],
   "source": [
    "!pip install display"
   ]
  },
  {
   "cell_type": "code",
   "execution_count": null,
   "metadata": {},
   "outputs": [],
   "source": [
    "import pandas as pd\n",
    "import display\n",
    "# Set the option to display all columns\n",
    "pd.set_option('display.max_columns', None)"
   ]
  },
  {
   "cell_type": "code",
   "execution_count": null,
   "metadata": {},
   "outputs": [],
   "source": [
    "train = pd.read_csv(\"train.csv\")\n",
    "test = pd.read_csv(\"test.csv\")\n"
   ]
  },
  {
   "cell_type": "code",
   "execution_count": null,
   "metadata": {},
   "outputs": [],
   "source": [
    "train.head()"
   ]
  },
  {
   "cell_type": "code",
   "execution_count": null,
   "metadata": {},
   "outputs": [],
   "source": [
    "test.head()"
   ]
  },
  {
   "cell_type": "markdown",
   "metadata": {},
   "source": [
    "<h1>EDA</h1>"
   ]
  },
  {
   "cell_type": "markdown",
   "metadata": {},
   "source": [
    "<h5>Verify Null Values</h5>"
   ]
  },
  {
   "cell_type": "code",
   "execution_count": null,
   "metadata": {},
   "outputs": [],
   "source": [
    "train.isnull().sum()"
   ]
  },
  {
   "cell_type": "code",
   "execution_count": null,
   "metadata": {},
   "outputs": [],
   "source": [
    "import pandas as pd\n",
    "import seaborn as sns\n",
    "import matplotlib.pyplot as plt\n",
    "import numpy as np\n",
    "from scipy.stats import skew\n",
    "\n",
    "class EDA:\n",
    "    def __init__(self, df, target_col):\n",
    "        self.df = df\n",
    "        self.target_col = target_col\n",
    "        self.numeric_cols = self.df.select_dtypes(include=np.number).columns.tolist()\n",
    "        self.categorical_cols = self.df.select_dtypes(include=['object', 'category']).columns.tolist()\n",
    "        if self.target_col not in self.numeric_cols:\n",
    "            self.categorical_cols.append(self.target_col)\n",
    "        if self.target_col not in self.df.columns:\n",
    "            raise ValueError(f\"A coluna alvo '{self.target_col}' não foi encontrada no DataFrame.\")\n",
    "        \n",
    "        # Aqui você precisa definir o mapeamento de volta, que deve ser definido fora desta classe ou durante a inicialização\n",
    "        self.label_mapping = {\n",
    "            0: 'Normal_Weight', \n",
    "            1: 'Overweight_Level_I', \n",
    "            2: 'Overweight_Level_II',\n",
    "            3: 'Obesity_Type_I', \n",
    "            4: 'Obesity_Type_II', \n",
    "            5: 'Obesity_Type_III', \n",
    "            6: 'Underweight'\n",
    "        }\n",
    "\n",
    "    def summary(self):\n",
    "        \"\"\"Exibe um resumo geral do DataFrame e suas colunas.\"\"\"\n",
    "        print(\"Informações Gerais:\")\n",
    "        print(self.df.info())\n",
    "        print(\"\\nDescrição Estatística das Variáveis Numéricas:\")\n",
    "        print(self.df.describe())\n",
    "        print(\"\\nContagem de Valores Ausentes:\")\n",
    "        print(self.df.isnull().sum())\n",
    "        print(\"\\nContagem de Duplicatas:\")\n",
    "        print(self.df.duplicated().sum())\n",
    "\n",
    "    def check_skewness(self):\n",
    "        \"\"\"Verificar se as variáveis numéricas estão skewed (assimétricas).\"\"\"\n",
    "        skewness_values = self.df[self.numeric_cols].apply(skew).sort_values(ascending=False)\n",
    "        print(\"\\nAssimetria das Variáveis Numéricas:\")\n",
    "        print(skewness_values)\n",
    "        return skewness_values\n",
    "\n",
    "    def correlation_analysis(self):\n",
    "        \"\"\"Mapa de calor das correlações entre variáveis numéricas, incluindo a variável alvo.\"\"\"\n",
    "        skewness = self.check_skewness()\n",
    "        method = 'pearson' if all(abs(skewness) < 0.5) else 'spearman'\n",
    "        print(f\"\\nUsando a correlação: {method.capitalize()}\")\n",
    "\n",
    "        plt.figure(figsize=(12, 10))\n",
    "        # Garantindo que apenas uma representação da variável alvo seja usada\n",
    "        cols_for_corr = self.numeric_cols + [self.target_col]  # Removendo 'target_numeric' se estiver na lista\n",
    "        if 'target_numeric' in cols_for_corr:\n",
    "            cols_for_corr.remove('target_numeric')\n",
    "        correlation_matrix = self.df[cols_for_corr].corr(method=method)\n",
    "        sns.heatmap(correlation_matrix, annot=True, cmap='coolwarm', fmt='.2f')\n",
    "        plt.title(f\"Mapa de Calor de Correlações ({method.capitalize()})\")\n",
    "        plt.show()\n",
    "\n",
    "\n",
    "    def univariate_analysis(self):\n",
    "        \"\"\"Análise univariada das variáveis numéricas e categóricas.\"\"\"\n",
    "        print(\"\\nDistribuição da Variável Alvo:\")\n",
    "        plt.figure(figsize=(8, 6))\n",
    "        sns.countplot(x=self.target_col, data=self.df)\n",
    "        # Obter as posições dos ticks atuais e os valores únicos ordenados\n",
    "        ticks = plt.gca().get_xticks()\n",
    "        labels = [self.label_mapping.get(int(x), x) for x in sorted(self.df[self.target_col].unique())]\n",
    "        plt.xticks(ticks, labels, rotation=45)\n",
    "        plt.show()\n",
    "\n",
    "        print(\"\\nDistribuição das Variáveis Numéricas:\")\n",
    "        self.df.hist(bins=15, figsize=(15, 10))\n",
    "        plt.tight_layout()\n",
    "        plt.show()\n",
    "\n",
    "\n",
    "    def complete_eda(self):\n",
    "        \"\"\"Executar todas as análises juntas.\"\"\"\n",
    "        self.summary()\n",
    "        self.univariate_analysis()\n",
    "        self.correlation_analysis()\n",
    "\n",
    "# Uso de exemplo:\n",
    "# df = pd.read_csv('/mnt/data/train.csv')  # Altere para o caminho correto do arquivo\n",
    "# eda = EDA(df, target_col='NObeyesdad')\n",
    "# eda.complete_eda()\n"
   ]
  },
  {
   "cell_type": "code",
   "execution_count": null,
   "metadata": {},
   "outputs": [],
   "source": [
    "eda = EDA(train, target_col='NObeyesdad')\n",
    "eda.complete_eda()"
   ]
  },
  {
   "cell_type": "code",
   "execution_count": null,
   "metadata": {},
   "outputs": [],
   "source": []
  },
  {
   "cell_type": "code",
   "execution_count": null,
   "metadata": {},
   "outputs": [],
   "source": []
  },
  {
   "cell_type": "code",
   "execution_count": null,
   "metadata": {},
   "outputs": [],
   "source": []
  },
  {
   "cell_type": "code",
   "execution_count": null,
   "metadata": {},
   "outputs": [],
   "source": []
  }
 ],
 "metadata": {
  "kernelspec": {
   "display_name": "Python 3",
   "language": "python",
   "name": "python3"
  },
  "language_info": {
   "codemirror_mode": {
    "name": "ipython",
    "version": 3
   },
   "file_extension": ".py",
   "mimetype": "text/x-python",
   "name": "python",
   "nbconvert_exporter": "python",
   "pygments_lexer": "ipython3",
   "version": "3.11.4"
  }
 },
 "nbformat": 4,
 "nbformat_minor": 2
}
